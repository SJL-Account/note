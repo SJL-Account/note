{
 "cells": [
  {
   "cell_type": "markdown",
   "metadata": {},
   "source": [
    "# 1.判断2个链表是否有交集"
   ]
  },
  {
   "cell_type": "code",
   "execution_count": null,
   "metadata": {},
   "outputs": [],
   "source": [
    "def getIntersectionNode(self, headA, headB):\n",
    "    \"\"\"\n",
    "    :type head1, head1: ListNode\n",
    "    :rtype: ListNode\n",
    "    \"\"\"\n",
    "\n",
    "    lA = headA\n",
    "    lB = headB\n",
    "    # a+c+b = b+c+a\n",
    "    while lA != lB:\n",
    "        lA =  lA.next if lA else headB\n",
    "        lB =  lB.next if lB else headA\n",
    "\n",
    "    return lA"
   ]
  },
  {
   "cell_type": "markdown",
   "metadata": {},
   "source": [
    "# 2.反转链表"
   ]
  },
  {
   "cell_type": "code",
   "execution_count": null,
   "metadata": {},
   "outputs": [],
   "source": [
    "def reverseList(self, head):\n",
    "    \"\"\"\n",
    "    :type head: ListNode\n",
    "    :rtype: ListNode\n",
    "    \"\"\"\n",
    "\n",
    "    pre = None\n",
    "    cur = head\n",
    "    while cur:\n",
    "        next = cur.next\n",
    "        cur.next = pre\n",
    "        pre = cur\n",
    "        cur = next\n",
    "\n",
    "    return pre"
   ]
  },
  {
   "cell_type": "markdown",
   "metadata": {},
   "source": [
    "# 3.合并2个有序链表"
   ]
  },
  {
   "cell_type": "code",
   "execution_count": null,
   "metadata": {},
   "outputs": [],
   "source": [
    "def mergeTwoLists(self, l1, l2):\n",
    "    \"\"\"\n",
    "    :type l1: ListNode\n",
    "    :type l2: ListNode\n",
    "    :rtype: ListNode\n",
    "    \"\"\"\n",
    "\n",
    "    if not l1:\n",
    "        return l2\n",
    "    if not l2:\n",
    "        return l1\n",
    "\n",
    "    if l1.val < l2.val :\n",
    "        l1.next = self.mergeTwoLists(l1.next, l2)\n",
    "        return l1\n",
    "    else:\n",
    "        l2.next = self.mergeTwoLists(l2.next, l1)\n",
    "        return l2\n",
    "\n",
    "            "
   ]
  },
  {
   "cell_type": "markdown",
   "metadata": {},
   "source": [
    "# 4.链表去重"
   ]
  },
  {
   "cell_type": "code",
   "execution_count": null,
   "metadata": {},
   "outputs": [],
   "source": [
    "def deleteDuplicates(self, head):\n",
    "    \"\"\"\n",
    "    :type head: ListNode\n",
    "    :rtype: ListNode\n",
    "    \"\"\"\n",
    "\n",
    "    cur = head\n",
    "    while cur and cur.next:\n",
    "        if cur.val == cur.next.val:\n",
    "            cur.next = cur.next.next\n",
    "        else:\n",
    "            cur = cur.next\n",
    "\n",
    "    return head"
   ]
  },
  {
   "cell_type": "markdown",
   "metadata": {},
   "source": [
    "# 5.删除倒数第n个节点"
   ]
  },
  {
   "cell_type": "code",
   "execution_count": null,
   "metadata": {},
   "outputs": [],
   "source": [
    "def removeNthFromEnd(self, head, n):\n",
    "    \"\"\"\n",
    "    :type head: ListNode\n",
    "    :type n: int\n",
    "    :rtype: ListNode\n",
    "    \"\"\"\n",
    "\n",
    "    p_fast = head\n",
    "    p_slow = head\n",
    "    while n >= 0:\n",
    "        p_fast = p_fast.next\n",
    "        n -= 1\n",
    "    while p_fast:\n",
    "        p_fast = p_fast.next\n",
    "        p_slow = p_slow.next\n",
    "    p_slow.next = p_slow.next.next\n",
    "\n",
    "    return head       "
   ]
  },
  {
   "cell_type": "markdown",
   "metadata": {},
   "source": [
    "# 6.交换相邻的2个节点"
   ]
  },
  {
   "cell_type": "code",
   "execution_count": null,
   "metadata": {},
   "outputs": [],
   "source": [
    "def swapPairs(self, head):\n",
    "    \"\"\"\n",
    "    :type head: ListNode\n",
    "    :rtype: ListNode\n",
    "    \"\"\"\n",
    "\n",
    "    if not head or not head.next:\n",
    "        return head\n",
    "    tmp = head.next\n",
    "    head.next = self.swapPairs(tmp.next)\n",
    "    tmp.next = head\n",
    "\n",
    "    return tmp"
   ]
  },
  {
   "cell_type": "markdown",
   "metadata": {},
   "source": [
    "# 7.链表排序"
   ]
  },
  {
   "cell_type": "markdown",
   "metadata": {},
   "source": [
    "## 7.1 冒泡排序"
   ]
  },
  {
   "cell_type": "code",
   "execution_count": 1,
   "metadata": {},
   "outputs": [],
   "source": [
    "def swap(node1, node2):\n",
    "    \"\"\"\n",
    "    swap the value of node1 and node2.\n",
    "    \n",
    "    \"\"\"\n",
    "    \n",
    "    node1.data, node2.data = node2.data, node1.data"
   ]
  },
  {
   "cell_type": "code",
   "execution_count": null,
   "metadata": {},
   "outputs": [],
   "source": [
    "def bubble_sort(head):\n",
    "    \"\"\"\n",
    "    bubble sort link list version.\n",
    "    \n",
    "    \"\"\"\n",
    "    i_node = head\n",
    "    j_node = None\n",
    "    # 第一层驱动循环，什么都不做\n",
    "    while i_node:\n",
    "        j_node = head\n",
    "        # 第二层比较循环，和数组相比不能定位尾部坐标\n",
    "        while j_node.next:\n",
    "            if j_node.data > j_node.next.data:\n",
    "                swap(j_node, j_node.next)\n",
    "            j_node = j_node.next\n",
    "        i_node = i_node.next   "
   ]
  },
  {
   "cell_type": "markdown",
   "metadata": {},
   "source": [
    "## 7.2 选择排序"
   ]
  },
  {
   "cell_type": "code",
   "execution_count": null,
   "metadata": {},
   "outputs": [],
   "source": [
    "def choose_sort(head):\n",
    "    \"\"\"\n",
    "    choose sort link list version.\n",
    "    \n",
    "    \"\"\"\n",
    "    \n",
    "    i_node = head\n",
    "    j_node = None\n",
    "    min_node = None\n",
    "    \n",
    "    # 外层驱动节点\n",
    "    while i_node:\n",
    "        min_node = i_node\n",
    "        j_node = i_node.next\n",
    "        while j_node:\n",
    "            if min_node.data > j_node.data:\n",
    "                min_node = j_node\n",
    "            j_node = j_node.next\n",
    "        swap(min_node, i_node)\n",
    "        i_node = i_node.next\n",
    "\n"
   ]
  },
  {
   "cell_type": "markdown",
   "metadata": {},
   "source": [
    "## 7.3 归并排序"
   ]
  },
  {
   "cell_type": "code",
   "execution_count": 3,
   "metadata": {},
   "outputs": [],
   "source": [
    "def merge(left, right):\n",
    "    \n",
    "    # 哑节点\n",
    "    head = LinkNode(-1)\n",
    "    tmp = head\n",
    "    \n",
    "    while left and right:\n",
    "        \n",
    "        if left.data < right.data:\n",
    "            tmp.next = left\n",
    "            # current point move 1 step\n",
    "            tmp = tmp.next\n",
    "            # left link point move 1 step\n",
    "            left = left.next\n",
    "        else:\n",
    "            tmp.next = right\n",
    "            # current point move 1 step\n",
    "            tmp = tmp.next\n",
    "            # right link point move 1 step\n",
    "            right = right.next \n",
    "    \n",
    "    # left节点有剩余\n",
    "    if left:\n",
    "        tmp.next = left\n",
    "    \n",
    "    # right节点有剩余\n",
    "    if right:\n",
    "        tmp.next = right\n",
    "        \n",
    "        \n",
    "    return head.next\n",
    "\n",
    "def merge_sort(head):\n",
    "    \n",
    "    if not head or not head.next:\n",
    "        return head\n",
    "    \n",
    "    p_slow = head\n",
    "    p_fast = head\n",
    "    \n",
    "    # 快慢指针搜索中心位置\n",
    "    while p_fast.next and p_fast.next.next:\n",
    "        p_fast = p_fast.next.next\n",
    "        p_slow = p_slow.next\n",
    "    \n",
    "    mid = p_slow.next\n",
    "    p_slow.next = None\n",
    "    \n",
    "    left_head = merge_sort(head)\n",
    "    right_head = merge_sort(mid)\n",
    "    \n",
    "    return merge(left_head, right_head)"
   ]
  },
  {
   "cell_type": "code",
   "execution_count": null,
   "metadata": {},
   "outputs": [],
   "source": []
  }
 ],
 "metadata": {
  "kernelspec": {
   "display_name": "Python 2",
   "language": "python",
   "name": "python2"
  },
  "language_info": {
   "codemirror_mode": {
    "name": "ipython",
    "version": 2
   },
   "file_extension": ".py",
   "mimetype": "text/x-python",
   "name": "python",
   "nbconvert_exporter": "python",
   "pygments_lexer": "ipython2",
   "version": "2.7.15"
  }
 },
 "nbformat": 4,
 "nbformat_minor": 2
}
