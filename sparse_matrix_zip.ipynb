{
 "cells": [
  {
   "cell_type": "markdown",
   "metadata": {},
   "source": [
    "http://data.biancheng.net/view/186.html"
   ]
  },
  {
   "attachments": {
    "cross_linkd.gif": {
     "image/gif": "[encoded data removed]"
    }
   },
   "cell_type": "markdown",
   "metadata": {},
   "source": [
    "![cross_linkd.gif](attachment:cross_linkd.gif) "
   ]
  },
  {
   "attachments": {
    "cross_link_struct.gif": {
     "image/gif": "[encoded data removed]"
    }
   },
   "cell_type": "markdown",
   "metadata": {},
   "source": [
    "![cross_link_struct.gif](attachment:cross_link_struct.gif)"
   ]
  },
  {
   "cell_type": "code",
   "execution_count": 176,
   "metadata": {},
   "outputs": [],
   "source": [
    "import numpy as np\n",
    "\n",
    "class Node:\n",
    "    \"\"\"\n",
    "    The node of cell info.\n",
    "    \"\"\"\n",
    "    def __init__(self, row_idx, col_idx, val):\n",
    "        \"\"\"\n",
    "        row_idx: row index\n",
    "        col_idx: column index\n",
    "        val: node value\n",
    "        \n",
    "        \"\"\"\n",
    "        self.row_idx = row_idx        \n",
    "        self.col_idx = col_idx\n",
    "        self.val = val\n",
    "        self.down_ptr = None\n",
    "        self.right_ptr = None\n",
    "    \n",
    "    def __str__(self,):\n",
    "        \"\"\"\n",
    "        Format print.\n",
    "        \n",
    "        \"\"\"\n",
    "        return \"row: %s, col:%s, val:%s\" % (self.row_idx, self.col_idx, self.val)\n",
    "\n",
    "    \n",
    "class cross_link:\n",
    "    \"\"\"\n",
    "    十字链表\n",
    "    \n",
    "    \"\"\"\n",
    "    \n",
    "    def __init__(self, m, n):\n",
    "        \"\"\"\n",
    "        m: row count\n",
    "        n: col_count\n",
    "        \n",
    "        \"\"\"\n",
    "        self.m = m\n",
    "        self.n = n\n",
    "        self.c_head = [None for i in range(self.m)]\n",
    "        self.r_head = [None for i in range(self.n)]\n",
    "    \n",
    "    def insert(self, r_i, c_i, val):\n",
    "        \"\"\"\n",
    "        insert value to matrix.\n",
    "        \n",
    "        params:\n",
    "        r_i: row index:\n",
    "        c_i: column index\n",
    "        val: value\n",
    "        \n",
    "        \"\"\"\n",
    "        node = Node(r_i, c_i, val) \n",
    "        \n",
    "        # insert row\n",
    "        if not self.r_head[r_i]:\n",
    "            self.r_head[r_i] = node\n",
    "        else:\n",
    "            crt_node = self.r_head[r_i]\n",
    "            while crt_node.right_ptr:\n",
    "                crt_node = crt_node.right_ptr\n",
    "            crt_node.right_ptr = node\n",
    "        \n",
    "        # insert column\n",
    "        if not self.c_head[c_i]:\n",
    "            self.c_head[c_i] = node\n",
    "        else:\n",
    "            crt_node = self.c_head[c_i]\n",
    "            while crt_node.down_ptr:\n",
    "                crt_node = crt_node.down_ptr\n",
    "            crt_node.down_ptr = node\n",
    "    \n",
    "    def row(self, row_i):\n",
    "        \"\"\"\n",
    "        Get i row data.\n",
    "        \n",
    "        \"\"\"\n",
    "        r_matrix = np.zeros((1, self.n))\n",
    "        crt_node = self.r_head[row_i]\n",
    "        while crt_node:\n",
    "            c_i = crt_node.col_idx\n",
    "            val = crt_node.val\n",
    "            r_matrix[0][c_i] = val\n",
    "            crt_node = crt_node.right_ptr\n",
    "    \n",
    "        return r_matrix\n",
    "    \n",
    "    def row_sum(self, row_i):\n",
    "        \"\"\"\n",
    "        Get i row sum.\n",
    "        \n",
    "        \"\"\"\n",
    "        r_sum = 0\n",
    "        crt_node = self.r_head[row_i]\n",
    "        while crt_node:\n",
    "            val = crt_node.val\n",
    "            r_sum += val\n",
    "            crt_node = crt_node.right_ptr\n",
    "    \n",
    "        return r_sum    \n",
    "\n",
    "    def col(self, col_i):\n",
    "        \"\"\"\n",
    "        Get i col data.\n",
    "        \n",
    "        \"\"\"\n",
    "        c_matrix = np.zeros((self.m, 1))\n",
    "        crt_node = self.c_head[col_i]\n",
    "        while crt_node:\n",
    "            r_i = crt_node.row_idx\n",
    "            val = crt_node.val\n",
    "            c_matrix[r_i][0] = val\n",
    "            crt_node = crt_node.down_ptr\n",
    "    \n",
    "        return c_matrix\n",
    "    \n",
    "    def col_sum(self, col_i):\n",
    "        \"\"\"\n",
    "        Get i col sum.\n",
    "        \"\"\"\n",
    "        c_sum = 0\n",
    "        crt_node = self.c_head[col_i]\n",
    "        while crt_node:\n",
    "            val = crt_node.val\n",
    "            c_sum += val\n",
    "            crt_node = crt_node.down_ptr\n",
    "    \n",
    "        return c_sum      \n",
    "    \n",
    "    def display(self,):\n",
    "        \"\"\"\n",
    "        Get origin matrix.\n",
    "        \n",
    "        \"\"\"\n",
    "        o_matrix = np.zeros((self.m, self.n))\n",
    "        for i in range(self.m):\n",
    "            if not self.r_head[i]:\n",
    "                continue\n",
    "            crt_node = self.r_head[i]\n",
    "            while crt_node:\n",
    "                r_i = crt_node.row_idx\n",
    "                c_i = crt_node.col_idx\n",
    "                val = crt_node.val\n",
    "                o_matrix[r_i][c_i] = val\n",
    "                crt_node = crt_node.right_ptr\n",
    "        return o_matrix"
   ]
  },
  {
   "cell_type": "code",
   "execution_count": 180,
   "metadata": {},
   "outputs": [],
   "source": [
    "cl = cross_link(10, 10)\n",
    "cl.insert(2, 3, 50)\n",
    "cl.insert(2, 4, 34)\n",
    "cl.insert(3, 3, 50)\n",
    "cl.insert(2, 5, 54)"
   ]
  },
  {
   "cell_type": "code",
   "execution_count": 181,
   "metadata": {},
   "outputs": [
    {
     "name": "stdout",
     "output_type": "stream",
     "text": [
      "[[ 0.  0.  0.  0.  0.  0.  0.  0.  0.  0.]\n",
      " [ 0.  0.  0.  0.  0.  0.  0.  0.  0.  0.]\n",
      " [ 0.  0.  0. 50. 34. 54.  0.  0.  0.  0.]\n",
      " [ 0.  0.  0. 50.  0.  0.  0.  0.  0.  0.]\n",
      " [ 0.  0.  0.  0.  0.  0.  0.  0.  0.  0.]\n",
      " [ 0.  0.  0.  0.  0.  0.  0.  0.  0.  0.]\n",
      " [ 0.  0.  0.  0.  0.  0.  0.  0.  0.  0.]\n",
      " [ 0.  0.  0.  0.  0.  0.  0.  0.  0.  0.]\n",
      " [ 0.  0.  0.  0.  0.  0.  0.  0.  0.  0.]\n",
      " [ 0.  0.  0.  0.  0.  0.  0.  0.  0.  0.]]\n"
     ]
    }
   ],
   "source": [
    "print cl.display()"
   ]
  }
 ],
 "metadata": {
  "kernelspec": {
   "display_name": "Python 2",
   "language": "python",
   "name": "python2"
  },
  "language_info": {
   "codemirror_mode": {
    "name": "ipython",
    "version": 2
   },
   "file_extension": ".py",
   "mimetype": "text/x-python",
   "name": "python",
   "nbconvert_exporter": "python",
   "pygments_lexer": "ipython2",
   "version": "2.7.15"
  }
 },
 "nbformat": 4,
 "nbformat_minor": 2
}
