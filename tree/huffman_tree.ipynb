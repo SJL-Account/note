{
 "cells": [
  {
   "cell_type": "markdown",
   "metadata": {},
   "source": [
    "参考链接：https://blog.csdn.net/qq_29519041/article/details/81428934\n",
    "        https://blog.csdn.net/lzq20115395/article/details/78906863"
   ]
  },
  {
   "cell_type": "code",
   "execution_count": 80,
   "metadata": {},
   "outputs": [],
   "source": [
    "class Node:\n",
    "    \"\"\"\n",
    "    Huffman tree node.\n",
    "    \n",
    "    \"\"\"\n",
    "    def __init__(self, key, value):\n",
    "        # store the node key\n",
    "        self._key = key\n",
    "        self._value = value\n",
    "        self.left = None\n",
    "        self.right = None\n",
    "\n",
    "        \n",
    "class HuffmanTree:\n",
    "    \"\"\"\n",
    "    Huffman tree data struct.\n",
    "    \n",
    "    \"\"\"\n",
    "    def __init__(self, char_weight):\n",
    "        \"\"\"\n",
    "        The Constructor.\n",
    "        \n",
    "        \"\"\"\n",
    "        self.nodes = [Node(key, char_weight[key]) for key in char_weight]\n",
    "        self.dict_bin_by_key = {}\n",
    "        self.init_tree()\n",
    "        self.root = self.nodes[0] \n",
    "    \n",
    "    def init_tree(self, ):\n",
    "        \"\"\"\n",
    "        Initialize the tree.\n",
    "        \n",
    "        \"\"\"\n",
    "        \n",
    "        # 迭代只剩一个根节点\n",
    "        while len(self.nodes) != 1:\n",
    "            # 根据权重值大小进行排序\n",
    "            self.nodes.sort(key = lambda x: x._value, reverse=True)\n",
    "            # 归并最小的2个节点\n",
    "            crt_node = Node(key = self.nodes[-1]._key + self.nodes[-2]._key, \n",
    "                            value = self.nodes[-1]._value + self.nodes[-2]._value)\n",
    "            # 将归并后的节点与字符节点建立关系 2 -> 1\n",
    "            crt_node.left = self.nodes.pop(-1)\n",
    "            crt_node.right = self.nodes.pop(-1)\n",
    "            self.nodes.append(crt_node) \n",
    "\n",
    "        \n",
    "    def bin_encode(self, node, bin_list):\n",
    "        \"\"\"\n",
    "        binary encode.\n",
    "        \n",
    "        \"\"\"\n",
    "        # 叶子节点，字符节点\n",
    "        if node and not node.left and not node.right:\n",
    "            self.dict_bin_by_key[node._key] = bin_list[:]\n",
    "            return\n",
    "            \n",
    "        bin_list.append(0)\n",
    "        self.bin_encode(node.left, bin_list)\n",
    "        bin_list.pop()\n",
    "        \n",
    "        bin_list.append(1)\n",
    "        self.bin_encode(node.right, bin_list)\n",
    "        bin_list.pop()\n",
    "    \n",
    "    def get_bin_codes(self, ):\n",
    "        \"\"\"\n",
    "        Get all char bin binary.\n",
    "        \n",
    "        \"\"\"\n",
    "        self.bin_encode(self.root, [])\n",
    "        return self.dict_bin_by_key"
   ]
  },
  {
   "cell_type": "code",
   "execution_count": 83,
   "metadata": {},
   "outputs": [
    {
     "data": {
      "text/plain": [
       "{'a': [0, 0, 1, 1], 'b': [0, 0, 0], 'c': [0, 1], 'd': [0, 0, 1, 0], 'e': [1]}"
      ]
     },
     "execution_count": 83,
     "metadata": {},
     "output_type": "execute_result"
    }
   ],
   "source": [
    "word_dict = {'a': 20, 'b': 30, 'c': 200, 'd':12, 'e': 300}\n",
    "hft = HuffmanTree(word_dict)\n",
    "hft.get_bin_codes()"
   ]
  }
 ],
 "metadata": {
  "kernelspec": {
   "display_name": "Python 2",
   "language": "python",
   "name": "python2"
  },
  "language_info": {
   "codemirror_mode": {
    "name": "ipython",
    "version": 2
   },
   "file_extension": ".py",
   "mimetype": "text/x-python",
   "name": "python",
   "nbconvert_exporter": "python",
   "pygments_lexer": "ipython2",
   "version": "2.7.15"
  }
 },
 "nbformat": 4,
 "nbformat_minor": 2
}
