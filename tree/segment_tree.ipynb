{
 "cells": [
  {
   "cell_type": "raw",
   "metadata": {},
   "source": [
    "需求\n",
    "\n",
    "存在一个数字 array:\n",
    "1.(Query)计算[L,R]区间内的和(sum)\n",
    "2.(Update)修改下标为idx的值为val"
   ]
  },
  {
   "cell_type": "markdown",
   "metadata": {},
   "source": [
    "https://www.bilibili.com/video/BV1cb411t7AM"
   ]
  },
  {
   "cell_type": "code",
   "execution_count": 67,
   "metadata": {},
   "outputs": [],
   "source": [
    "MAX_LEN = 1000\n",
    "class SegmentTree:\n",
    "        \n",
    "    def __init__(self, array):\n",
    "        \n",
    "        self.array  = array\n",
    "        self.tree_arr = [None] * MAX_LEN\n",
    "        self._build_tree(0, 0, len(self.array) - 1)\n",
    "    \n",
    "    def update(self, idx, val):\n",
    "        \n",
    "        self._update_tree(0, 0, len(self.array) - 1, idx, val)\n",
    "    \n",
    "    def query(self, L, R):\n",
    "        \n",
    "        return self._query_tree(0, 0, len(self.array) - 1, L, R)\n",
    "    \n",
    "    def _build_tree(self, node, start, end):\n",
    "        \"\"\"\n",
    "        Build segment tree.\n",
    "        \"\"\"\n",
    "        # 停止条件\n",
    "        if start == end:\n",
    "            self.tree_arr[node] = self.array[start]\n",
    "            print \"arrived the leaf node (%s: %s)\" % (node, self.array[start])\n",
    "            return\n",
    "        else:\n",
    "            # 计算下标\n",
    "            mid = int((start + end) / 2)\n",
    "            left_idx = 2 * node + 1\n",
    "            right_idx = 2 * node + 2\n",
    "            #左右递归\n",
    "            self._build_tree(left_idx, start, mid)\n",
    "            self._build_tree(right_idx, mid + 1, end)\n",
    "            # 建树\n",
    "            self.tree_arr[node] = self.tree_arr[left_idx] + self.tree_arr[right_idx]\n",
    "            print \"backtrace the crt node %s ,left value: %s ,right value %s \" % (node, self.tree_arr[left_idx], self.tree_arr[right_idx])\n",
    "\n",
    "            \n",
    "    def _update_tree(self, node, start, end, idx, val):\n",
    "        \"\"\"\n",
    "        Update segment tree.\n",
    "        \"\"\"\n",
    "        # 停止条件\n",
    "        if start == end:\n",
    "            self.array[start] = val\n",
    "            self.tree_arr[node] = val\n",
    "            print \"arrived the leaf node (%s: %s)\" % (node, self.array[start])\n",
    "            return\n",
    "        else:\n",
    "            # 计算下标\n",
    "            mid = int((start + end) / 2)\n",
    "            left_idx = 2 * node + 1\n",
    "            right_idx = 2 * node + 2\n",
    "            #左右递归\n",
    "            if idx >= start and idx <=mid:\n",
    "                self._update_tree(left_idx, start, mid, idx, val)\n",
    "            else:\n",
    "                self._update_tree(right_idx, mid + 1, end, idx, val)\n",
    "            # update\n",
    "            self.tree_arr[node] = self.tree_arr[left_idx] + self.tree_arr[right_idx]\n",
    "            print \"backtrace the crt node %s ,left value: %s ,right value %s \" % (node, self.tree_arr[left_idx], self.tree_arr[right_idx])\n",
    "\n",
    "    def _query_tree(self, node, start, end, L, R):\n",
    "        \"\"\"\n",
    "        Query segment tree.\n",
    "        \n",
    "        \"\"\"\n",
    "        print \"s:%s, e:%s\" % (start, end)\n",
    "        # 无交集\n",
    "        if R < start or L > end:\n",
    "            return 0\n",
    "        elif L <= start and R >= end:\n",
    "            return self.tree_arr[node]\n",
    "        elif start == end:\n",
    "            return self.tree_arr[node]\n",
    "        \n",
    "        # 计算下标\n",
    "        mid = int((start + end) / 2)\n",
    "        left_idx = 2 * node + 1\n",
    "        right_idx = 2 * node + 2\n",
    "        \n",
    "        left_sum = self._query_tree(left_idx, start, mid, L, R)\n",
    "        right_sum = self._query_tree(right_idx, mid + 1, end, L, R)\n",
    "        \n",
    "        return left_sum + right_sum\n"
   ]
  },
  {
   "cell_type": "code",
   "execution_count": 68,
   "metadata": {},
   "outputs": [
    {
     "name": "stdout",
     "output_type": "stream",
     "text": [
      "arrived the leaf node (7: 5)\n",
      "arrived the leaf node (8: 6)\n",
      "backtrace the crt node 3 ,left value: 5 ,right value 6 \n",
      "arrived the leaf node (9: 1)\n",
      "arrived the leaf node (10: 3)\n",
      "backtrace the crt node 4 ,left value: 1 ,right value 3 \n",
      "backtrace the crt node 1 ,left value: 11 ,right value 4 \n",
      "arrived the leaf node (11: 4)\n",
      "arrived the leaf node (12: 9)\n",
      "backtrace the crt node 5 ,left value: 4 ,right value 9 \n",
      "arrived the leaf node (6: 45)\n",
      "backtrace the crt node 2 ,left value: 13 ,right value 45 \n",
      "backtrace the crt node 0 ,left value: 15 ,right value 58 \n"
     ]
    }
   ],
   "source": [
    "arr = [5, 6, 1, 3, 4, 9, 45]\n",
    "seg_tree = SegmentTree(arr)"
   ]
  },
  {
   "cell_type": "code",
   "execution_count": 69,
   "metadata": {},
   "outputs": [
    {
     "name": "stdout",
     "output_type": "stream",
     "text": [
      "arrived the leaf node (9: 100)\n",
      "backtrace the crt node 4 ,left value: 100 ,right value 3 \n",
      "backtrace the crt node 1 ,left value: 11 ,right value 103 \n",
      "backtrace the crt node 0 ,left value: 114 ,right value 58 \n"
     ]
    }
   ],
   "source": [
    "seg_tree.update(2, 100)"
   ]
  },
  {
   "cell_type": "code",
   "execution_count": 71,
   "metadata": {},
   "outputs": [
    {
     "name": "stdout",
     "output_type": "stream",
     "text": [
      "s:0, e:6\n",
      "s:0, e:3\n",
      "s:0, e:1\n",
      "s:0, e:0\n",
      "s:1, e:1\n",
      "s:2, e:3\n",
      "s:4, e:6\n",
      "s:4, e:5\n",
      "s:6, e:6\n"
     ]
    },
    {
     "data": {
      "text/plain": [
       "122"
      ]
     },
     "execution_count": 71,
     "metadata": {},
     "output_type": "execute_result"
    }
   ],
   "source": [
    "seg_tree.query(1, 5)"
   ]
  },
  {
   "cell_type": "code",
   "execution_count": null,
   "metadata": {},
   "outputs": [],
   "source": []
  },
  {
   "cell_type": "code",
   "execution_count": null,
   "metadata": {},
   "outputs": [],
   "source": []
  }
 ],
 "metadata": {
  "kernelspec": {
   "display_name": "Python 2",
   "language": "python",
   "name": "python2"
  },
  "language_info": {
   "codemirror_mode": {
    "name": "ipython",
    "version": 2
   },
   "file_extension": ".py",
   "mimetype": "text/x-python",
   "name": "python",
   "nbconvert_exporter": "python",
   "pygments_lexer": "ipython2",
   "version": "2.7.15"
  }
 },
 "nbformat": 4,
 "nbformat_minor": 2
}
