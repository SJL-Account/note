{
 "cells": [
  {
   "cell_type": "markdown",
   "metadata": {},
   "source": [
    "参考资料：https://blog.csdn.net/m0_37896278/article/details/105961824"
   ]
  },
  {
   "cell_type": "code",
   "execution_count": 97,
   "metadata": {},
   "outputs": [],
   "source": [
    "class Node(object):\n",
    "    def __init__(self, node, char):\n",
    "        self.childrens = {}\n",
    "        self.parent = node\n",
    "        self.has_word = False\n",
    "        self.word = \"\"\n",
    "        self.char = char\n",
    "    def __str__(self,):\n",
    "        return \"parent: %s childrents: %s\" % (self.parent, self.childrens)"
   ]
  },
  {
   "cell_type": "code",
   "execution_count": 98,
   "metadata": {},
   "outputs": [],
   "source": [
    "class Trie(object):\n",
    "    \n",
    "    def __init__(self,):\n",
    "        \n",
    "        self.root = Node(None, '/')\n",
    "        self.__size = 0\n",
    "        \n",
    "    def add(self, word):\n",
    "        \n",
    "        crt_node = self.root\n",
    "        for char in word:\n",
    "            if char not in crt_node.childrens:\n",
    "                crt_node.childrens[char] = Node(crt_node, char)\n",
    "            crt_node = crt_node.childrens.get(char)\n",
    "        \n",
    "        crt_node.has_word = True\n",
    "        crt_node.word = word\n",
    "        self.__size += 1\n",
    "        \n",
    "    \n",
    "    def show_tree(self, root):\n",
    "        \n",
    "        if not root.childrens:\n",
    "            print root.word\n",
    "            return\n",
    "        \n",
    "        for char in root.childrens:\n",
    "            node = root.childrens[char] \n",
    "            self.show_tree(node)\n",
    "    \n",
    "    def contains(self, key):\n",
    "        \n",
    "        return bool(self.get_node(key))\n",
    "    \n",
    "    \n",
    "    def get_node(self, key):\n",
    "        \n",
    "        crt_node = self.root\n",
    "        for char in key:\n",
    "            crt_node =  crt_node.childrens.get(char)\n",
    "            if not crt_node:\n",
    "                return None\n",
    "        return crt_node if crt_node.has_word else None\n",
    "    \n",
    "    def start_with(self, prefix):\n",
    "        \n",
    "        crt_node = self.root\n",
    "        for char in prefix:\n",
    "            crt_node =  crt_node.childrens.get(char)\n",
    "            if not crt_node:\n",
    "                return False\n",
    "        return True   \n",
    "        \n",
    "    def remove(self, key):\n",
    "        \"\"\"\n",
    "            删除key对应节点\n",
    "        \"\"\"\n",
    "        node = self.get_node(key)\n",
    "        if not node:\n",
    "            return\n",
    "        self.__size -= 1\n",
    "        # 存在子节点\n",
    "        if node.childrens:\n",
    "            node.has_word = False\n",
    "            node.word = \"\"\n",
    "        # 不存在子节点时从尾部开始删除\n",
    "        else:\n",
    "            while node.parent:\n",
    "                del node.parent.childrens[node.char]\n",
    "                if node.parent.has_word or node.parent.childrens:\n",
    "                    break\n",
    "                node = node.parent"
   ]
  },
  {
   "cell_type": "code",
   "execution_count": 99,
   "metadata": {},
   "outputs": [],
   "source": [
    "trie = Trie()\n",
    "trie.add('abc')\n",
    "trie.add('abd')\n",
    "trie.add('ab2323')\n",
    "trie.add('3223')\n",
    "trie.start_with('ab4')\n",
    "trie.remove('abc')\n",
    "tire.show_tree(tire.root)"
   ]
  }
 ],
 "metadata": {
  "kernelspec": {
   "display_name": "Python 2",
   "language": "python",
   "name": "python2"
  },
  "language_info": {
   "codemirror_mode": {
    "name": "ipython",
    "version": 2
   },
   "file_extension": ".py",
   "mimetype": "text/x-python",
   "name": "python",
   "nbconvert_exporter": "python",
   "pygments_lexer": "ipython2",
   "version": "2.7.15"
  }
 },
 "nbformat": 4,
 "nbformat_minor": 2
}
